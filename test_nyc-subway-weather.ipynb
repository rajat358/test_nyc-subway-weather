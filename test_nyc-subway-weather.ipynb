{
 "cells": [
  {
   "cell_type": "code",
   "execution_count": 3,
   "id": "a817333e-d02c-43ab-83cf-22667e846fc0",
   "metadata": {},
   "outputs": [],
   "source": [
    "import pandas as pd"
   ]
  },
  {
   "cell_type": "code",
   "execution_count": 2,
   "id": "cb67d48f-59e2-49d2-8804-3d43a73d21b9",
   "metadata": {},
   "outputs": [],
   "source": [
    "import numpy as np"
   ]
  },
  {
   "cell_type": "code",
   "execution_count": 4,
   "id": "05e452ee-3f6a-4232-833e-d29022d6fa86",
   "metadata": {},
   "outputs": [],
   "source": [
    "df_2=pd.read_csv(\"nyc-subway-weather.csv\")"
   ]
  },
  {
   "cell_type": "code",
   "execution_count": 6,
   "id": "86c99af1-9833-4be3-8243-1bee3bc88cc0",
   "metadata": {},
   "outputs": [
    {
     "data": {
      "text/html": [
       "<div>\n",
       "<style scoped>\n",
       "    .dataframe tbody tr th:only-of-type {\n",
       "        vertical-align: middle;\n",
       "    }\n",
       "\n",
       "    .dataframe tbody tr th {\n",
       "        vertical-align: top;\n",
       "    }\n",
       "\n",
       "    .dataframe thead th {\n",
       "        text-align: right;\n",
       "    }\n",
       "</style>\n",
       "<table border=\"1\" class=\"dataframe\">\n",
       "  <thead>\n",
       "    <tr style=\"text-align: right;\">\n",
       "      <th></th>\n",
       "      <th>UNIT</th>\n",
       "      <th>DATEn</th>\n",
       "      <th>TIMEn</th>\n",
       "      <th>ENTRIESn</th>\n",
       "      <th>EXITSn</th>\n",
       "      <th>ENTRIESn_hourly</th>\n",
       "      <th>EXITSn_hourly</th>\n",
       "      <th>datetime</th>\n",
       "      <th>hour</th>\n",
       "      <th>day_week</th>\n",
       "      <th>...</th>\n",
       "      <th>pressurei</th>\n",
       "      <th>rain</th>\n",
       "      <th>tempi</th>\n",
       "      <th>wspdi</th>\n",
       "      <th>meanprecipi</th>\n",
       "      <th>meanpressurei</th>\n",
       "      <th>meantempi</th>\n",
       "      <th>meanwspdi</th>\n",
       "      <th>weather_lat</th>\n",
       "      <th>weather_lon</th>\n",
       "    </tr>\n",
       "  </thead>\n",
       "  <tbody>\n",
       "    <tr>\n",
       "      <th>0</th>\n",
       "      <td>R003</td>\n",
       "      <td>05-01-11</td>\n",
       "      <td>00:00:00</td>\n",
       "      <td>4388333</td>\n",
       "      <td>2911002</td>\n",
       "      <td>0.0</td>\n",
       "      <td>0.0</td>\n",
       "      <td>2011-05-01 00:00:00</td>\n",
       "      <td>0</td>\n",
       "      <td>6</td>\n",
       "      <td>...</td>\n",
       "      <td>30.22</td>\n",
       "      <td>0</td>\n",
       "      <td>55.9</td>\n",
       "      <td>3.5</td>\n",
       "      <td>0.0</td>\n",
       "      <td>30.258000</td>\n",
       "      <td>55.980000</td>\n",
       "      <td>7.86</td>\n",
       "      <td>40.700348</td>\n",
       "      <td>-73.887177</td>\n",
       "    </tr>\n",
       "    <tr>\n",
       "      <th>1</th>\n",
       "      <td>R003</td>\n",
       "      <td>05-01-11</td>\n",
       "      <td>04:00:00</td>\n",
       "      <td>4388333</td>\n",
       "      <td>2911002</td>\n",
       "      <td>0.0</td>\n",
       "      <td>0.0</td>\n",
       "      <td>2011-05-01 04:00:00</td>\n",
       "      <td>4</td>\n",
       "      <td>6</td>\n",
       "      <td>...</td>\n",
       "      <td>30.25</td>\n",
       "      <td>0</td>\n",
       "      <td>52.0</td>\n",
       "      <td>3.5</td>\n",
       "      <td>0.0</td>\n",
       "      <td>30.258000</td>\n",
       "      <td>55.980000</td>\n",
       "      <td>7.86</td>\n",
       "      <td>40.700348</td>\n",
       "      <td>-73.887177</td>\n",
       "    </tr>\n",
       "    <tr>\n",
       "      <th>2</th>\n",
       "      <td>R003</td>\n",
       "      <td>05-01-11</td>\n",
       "      <td>12:00:00</td>\n",
       "      <td>4388333</td>\n",
       "      <td>2911002</td>\n",
       "      <td>0.0</td>\n",
       "      <td>0.0</td>\n",
       "      <td>2011-05-01 12:00:00</td>\n",
       "      <td>12</td>\n",
       "      <td>6</td>\n",
       "      <td>...</td>\n",
       "      <td>30.28</td>\n",
       "      <td>0</td>\n",
       "      <td>62.1</td>\n",
       "      <td>6.9</td>\n",
       "      <td>0.0</td>\n",
       "      <td>30.258000</td>\n",
       "      <td>55.980000</td>\n",
       "      <td>7.86</td>\n",
       "      <td>40.700348</td>\n",
       "      <td>-73.887177</td>\n",
       "    </tr>\n",
       "    <tr>\n",
       "      <th>3</th>\n",
       "      <td>R003</td>\n",
       "      <td>05-01-11</td>\n",
       "      <td>16:00:00</td>\n",
       "      <td>4388333</td>\n",
       "      <td>2911002</td>\n",
       "      <td>0.0</td>\n",
       "      <td>0.0</td>\n",
       "      <td>2011-05-01 16:00:00</td>\n",
       "      <td>16</td>\n",
       "      <td>6</td>\n",
       "      <td>...</td>\n",
       "      <td>30.26</td>\n",
       "      <td>0</td>\n",
       "      <td>57.9</td>\n",
       "      <td>15.0</td>\n",
       "      <td>0.0</td>\n",
       "      <td>30.258000</td>\n",
       "      <td>55.980000</td>\n",
       "      <td>7.86</td>\n",
       "      <td>40.700348</td>\n",
       "      <td>-73.887177</td>\n",
       "    </tr>\n",
       "    <tr>\n",
       "      <th>4</th>\n",
       "      <td>R003</td>\n",
       "      <td>05-01-11</td>\n",
       "      <td>20:00:00</td>\n",
       "      <td>4388333</td>\n",
       "      <td>2911002</td>\n",
       "      <td>0.0</td>\n",
       "      <td>0.0</td>\n",
       "      <td>2011-05-01 20:00:00</td>\n",
       "      <td>20</td>\n",
       "      <td>6</td>\n",
       "      <td>...</td>\n",
       "      <td>30.28</td>\n",
       "      <td>0</td>\n",
       "      <td>52.0</td>\n",
       "      <td>10.4</td>\n",
       "      <td>0.0</td>\n",
       "      <td>30.258000</td>\n",
       "      <td>55.980000</td>\n",
       "      <td>7.86</td>\n",
       "      <td>40.700348</td>\n",
       "      <td>-73.887177</td>\n",
       "    </tr>\n",
       "    <tr>\n",
       "      <th>...</th>\n",
       "      <td>...</td>\n",
       "      <td>...</td>\n",
       "      <td>...</td>\n",
       "      <td>...</td>\n",
       "      <td>...</td>\n",
       "      <td>...</td>\n",
       "      <td>...</td>\n",
       "      <td>...</td>\n",
       "      <td>...</td>\n",
       "      <td>...</td>\n",
       "      <td>...</td>\n",
       "      <td>...</td>\n",
       "      <td>...</td>\n",
       "      <td>...</td>\n",
       "      <td>...</td>\n",
       "      <td>...</td>\n",
       "      <td>...</td>\n",
       "      <td>...</td>\n",
       "      <td>...</td>\n",
       "      <td>...</td>\n",
       "      <td>...</td>\n",
       "    </tr>\n",
       "    <tr>\n",
       "      <th>42644</th>\n",
       "      <td>R464</td>\n",
       "      <td>05-31-11</td>\n",
       "      <td>04:00:00</td>\n",
       "      <td>567311</td>\n",
       "      <td>132804</td>\n",
       "      <td>0.0</td>\n",
       "      <td>0.0</td>\n",
       "      <td>2011-05-31 04:00:00</td>\n",
       "      <td>4</td>\n",
       "      <td>1</td>\n",
       "      <td>...</td>\n",
       "      <td>30.14</td>\n",
       "      <td>0</td>\n",
       "      <td>73.0</td>\n",
       "      <td>6.9</td>\n",
       "      <td>0.0</td>\n",
       "      <td>30.168333</td>\n",
       "      <td>75.366667</td>\n",
       "      <td>7.10</td>\n",
       "      <td>40.660004</td>\n",
       "      <td>-73.844849</td>\n",
       "    </tr>\n",
       "    <tr>\n",
       "      <th>42645</th>\n",
       "      <td>R464</td>\n",
       "      <td>05-31-11</td>\n",
       "      <td>08:00:00</td>\n",
       "      <td>290767</td>\n",
       "      <td>59788</td>\n",
       "      <td>0.0</td>\n",
       "      <td>0.0</td>\n",
       "      <td>2011-05-31 08:00:00</td>\n",
       "      <td>8</td>\n",
       "      <td>1</td>\n",
       "      <td>...</td>\n",
       "      <td>30.19</td>\n",
       "      <td>0</td>\n",
       "      <td>80.1</td>\n",
       "      <td>6.9</td>\n",
       "      <td>0.0</td>\n",
       "      <td>30.168333</td>\n",
       "      <td>75.366667</td>\n",
       "      <td>7.10</td>\n",
       "      <td>40.660004</td>\n",
       "      <td>-73.844849</td>\n",
       "    </tr>\n",
       "    <tr>\n",
       "      <th>42646</th>\n",
       "      <td>R464</td>\n",
       "      <td>05-31-11</td>\n",
       "      <td>12:00:00</td>\n",
       "      <td>419894</td>\n",
       "      <td>95280</td>\n",
       "      <td>0.0</td>\n",
       "      <td>0.0</td>\n",
       "      <td>2011-05-31 12:00:00</td>\n",
       "      <td>12</td>\n",
       "      <td>1</td>\n",
       "      <td>...</td>\n",
       "      <td>30.20</td>\n",
       "      <td>0</td>\n",
       "      <td>81.0</td>\n",
       "      <td>10.4</td>\n",
       "      <td>0.0</td>\n",
       "      <td>30.168333</td>\n",
       "      <td>75.366667</td>\n",
       "      <td>7.10</td>\n",
       "      <td>40.660004</td>\n",
       "      <td>-73.844849</td>\n",
       "    </tr>\n",
       "    <tr>\n",
       "      <th>42647</th>\n",
       "      <td>R464</td>\n",
       "      <td>05-31-11</td>\n",
       "      <td>16:00:00</td>\n",
       "      <td>419894</td>\n",
       "      <td>95280</td>\n",
       "      <td>0.0</td>\n",
       "      <td>0.0</td>\n",
       "      <td>2011-05-31 16:00:00</td>\n",
       "      <td>16</td>\n",
       "      <td>1</td>\n",
       "      <td>...</td>\n",
       "      <td>30.17</td>\n",
       "      <td>0</td>\n",
       "      <td>77.0</td>\n",
       "      <td>13.8</td>\n",
       "      <td>0.0</td>\n",
       "      <td>30.168333</td>\n",
       "      <td>75.366667</td>\n",
       "      <td>7.10</td>\n",
       "      <td>40.660004</td>\n",
       "      <td>-73.844849</td>\n",
       "    </tr>\n",
       "    <tr>\n",
       "      <th>42648</th>\n",
       "      <td>R464</td>\n",
       "      <td>05-31-11</td>\n",
       "      <td>20:00:00</td>\n",
       "      <td>419894</td>\n",
       "      <td>95280</td>\n",
       "      <td>0.0</td>\n",
       "      <td>0.0</td>\n",
       "      <td>2011-05-31 20:00:00</td>\n",
       "      <td>20</td>\n",
       "      <td>1</td>\n",
       "      <td>...</td>\n",
       "      <td>30.18</td>\n",
       "      <td>0</td>\n",
       "      <td>69.1</td>\n",
       "      <td>4.6</td>\n",
       "      <td>0.0</td>\n",
       "      <td>30.168333</td>\n",
       "      <td>75.366667</td>\n",
       "      <td>7.10</td>\n",
       "      <td>40.660004</td>\n",
       "      <td>-73.844849</td>\n",
       "    </tr>\n",
       "  </tbody>\n",
       "</table>\n",
       "<p>42649 rows × 27 columns</p>\n",
       "</div>"
      ],
      "text/plain": [
       "       UNIT     DATEn     TIMEn  ENTRIESn   EXITSn  ENTRIESn_hourly  \\\n",
       "0      R003  05-01-11  00:00:00   4388333  2911002              0.0   \n",
       "1      R003  05-01-11  04:00:00   4388333  2911002              0.0   \n",
       "2      R003  05-01-11  12:00:00   4388333  2911002              0.0   \n",
       "3      R003  05-01-11  16:00:00   4388333  2911002              0.0   \n",
       "4      R003  05-01-11  20:00:00   4388333  2911002              0.0   \n",
       "...     ...       ...       ...       ...      ...              ...   \n",
       "42644  R464  05-31-11  04:00:00    567311   132804              0.0   \n",
       "42645  R464  05-31-11  08:00:00    290767    59788              0.0   \n",
       "42646  R464  05-31-11  12:00:00    419894    95280              0.0   \n",
       "42647  R464  05-31-11  16:00:00    419894    95280              0.0   \n",
       "42648  R464  05-31-11  20:00:00    419894    95280              0.0   \n",
       "\n",
       "       EXITSn_hourly             datetime  hour  day_week  ...  pressurei  \\\n",
       "0                0.0  2011-05-01 00:00:00     0         6  ...      30.22   \n",
       "1                0.0  2011-05-01 04:00:00     4         6  ...      30.25   \n",
       "2                0.0  2011-05-01 12:00:00    12         6  ...      30.28   \n",
       "3                0.0  2011-05-01 16:00:00    16         6  ...      30.26   \n",
       "4                0.0  2011-05-01 20:00:00    20         6  ...      30.28   \n",
       "...              ...                  ...   ...       ...  ...        ...   \n",
       "42644            0.0  2011-05-31 04:00:00     4         1  ...      30.14   \n",
       "42645            0.0  2011-05-31 08:00:00     8         1  ...      30.19   \n",
       "42646            0.0  2011-05-31 12:00:00    12         1  ...      30.20   \n",
       "42647            0.0  2011-05-31 16:00:00    16         1  ...      30.17   \n",
       "42648            0.0  2011-05-31 20:00:00    20         1  ...      30.18   \n",
       "\n",
       "      rain  tempi  wspdi meanprecipi  meanpressurei  meantempi  meanwspdi  \\\n",
       "0        0   55.9    3.5         0.0      30.258000  55.980000       7.86   \n",
       "1        0   52.0    3.5         0.0      30.258000  55.980000       7.86   \n",
       "2        0   62.1    6.9         0.0      30.258000  55.980000       7.86   \n",
       "3        0   57.9   15.0         0.0      30.258000  55.980000       7.86   \n",
       "4        0   52.0   10.4         0.0      30.258000  55.980000       7.86   \n",
       "...    ...    ...    ...         ...            ...        ...        ...   \n",
       "42644    0   73.0    6.9         0.0      30.168333  75.366667       7.10   \n",
       "42645    0   80.1    6.9         0.0      30.168333  75.366667       7.10   \n",
       "42646    0   81.0   10.4         0.0      30.168333  75.366667       7.10   \n",
       "42647    0   77.0   13.8         0.0      30.168333  75.366667       7.10   \n",
       "42648    0   69.1    4.6         0.0      30.168333  75.366667       7.10   \n",
       "\n",
       "       weather_lat  weather_lon  \n",
       "0        40.700348   -73.887177  \n",
       "1        40.700348   -73.887177  \n",
       "2        40.700348   -73.887177  \n",
       "3        40.700348   -73.887177  \n",
       "4        40.700348   -73.887177  \n",
       "...            ...          ...  \n",
       "42644    40.660004   -73.844849  \n",
       "42645    40.660004   -73.844849  \n",
       "42646    40.660004   -73.844849  \n",
       "42647    40.660004   -73.844849  \n",
       "42648    40.660004   -73.844849  \n",
       "\n",
       "[42649 rows x 27 columns]"
      ]
     },
     "execution_count": 6,
     "metadata": {},
     "output_type": "execute_result"
    }
   ],
   "source": [
    "df_2"
   ]
  },
  {
   "cell_type": "code",
   "execution_count": 6,
   "id": "7af41a68-2fdd-4a70-9d1a-1426b95988ec",
   "metadata": {},
   "outputs": [],
   "source": [
    "#1\n",
    "a=df_2.groupby(\"day_week\").agg({\"day_week\":\"sum\"})/len(\"day_week\")"
   ]
  },
  {
   "cell_type": "code",
   "execution_count": 7,
   "id": "8a2d2f78-aaea-4f63-9e5e-94f021e142b3",
   "metadata": {},
   "outputs": [
    {
     "name": "stdout",
     "output_type": "stream",
     "text": [
      "day_week    0.0\n",
      "dtype: float64\n"
     ]
    }
   ],
   "source": [
    "print(a.min())"
   ]
  },
  {
   "cell_type": "code",
   "execution_count": 19,
   "id": "d4964d10-db19-47ac-97f1-f2debb982a78",
   "metadata": {},
   "outputs": [],
   "source": [
    "#Avg=a/len(\"day_week\")"
   ]
  },
  {
   "cell_type": "code",
   "execution_count": 20,
   "id": "87a3a6b1-9dcb-4371-bfc2-63b82e9b4b55",
   "metadata": {},
   "outputs": [
    {
     "data": {
      "text/html": [
       "<div>\n",
       "<style scoped>\n",
       "    .dataframe tbody tr th:only-of-type {\n",
       "        vertical-align: middle;\n",
       "    }\n",
       "\n",
       "    .dataframe tbody tr th {\n",
       "        vertical-align: top;\n",
       "    }\n",
       "\n",
       "    .dataframe thead th {\n",
       "        text-align: right;\n",
       "    }\n",
       "</style>\n",
       "<table border=\"1\" class=\"dataframe\">\n",
       "  <thead>\n",
       "    <tr style=\"text-align: right;\">\n",
       "      <th></th>\n",
       "      <th>day_week</th>\n",
       "    </tr>\n",
       "    <tr>\n",
       "      <th>day_week</th>\n",
       "      <th></th>\n",
       "    </tr>\n",
       "  </thead>\n",
       "  <tbody>\n",
       "    <tr>\n",
       "      <th>0</th>\n",
       "      <td>0.000</td>\n",
       "    </tr>\n",
       "    <tr>\n",
       "      <th>1</th>\n",
       "      <td>880.375</td>\n",
       "    </tr>\n",
       "    <tr>\n",
       "      <th>2</th>\n",
       "      <td>1370.500</td>\n",
       "    </tr>\n",
       "    <tr>\n",
       "      <th>3</th>\n",
       "      <td>2056.875</td>\n",
       "    </tr>\n",
       "    <tr>\n",
       "      <th>4</th>\n",
       "      <td>2725.000</td>\n",
       "    </tr>\n",
       "    <tr>\n",
       "      <th>5</th>\n",
       "      <td>3381.250</td>\n",
       "    </tr>\n",
       "    <tr>\n",
       "      <th>6</th>\n",
       "      <td>5076.750</td>\n",
       "    </tr>\n",
       "  </tbody>\n",
       "</table>\n",
       "</div>"
      ],
      "text/plain": [
       "          day_week\n",
       "day_week          \n",
       "0            0.000\n",
       "1          880.375\n",
       "2         1370.500\n",
       "3         2056.875\n",
       "4         2725.000\n",
       "5         3381.250\n",
       "6         5076.750"
      ]
     },
     "execution_count": 20,
     "metadata": {},
     "output_type": "execute_result"
    }
   ],
   "source": []
  },
  {
   "cell_type": "code",
   "execution_count": 47,
   "id": "a1ff236f-1742-4ba4-b387-9e6b103472d1",
   "metadata": {},
   "outputs": [],
   "source": [
    "b=df_2.groupby(\"day_week\").agg({\"day_week\":\"min\"})"
   ]
  },
  {
   "cell_type": "code",
   "execution_count": 39,
   "id": "59f418cc-e579-4683-929c-cfe8558b77a9",
   "metadata": {},
   "outputs": [
    {
     "data": {
      "text/html": [
       "<div>\n",
       "<style scoped>\n",
       "    .dataframe tbody tr th:only-of-type {\n",
       "        vertical-align: middle;\n",
       "    }\n",
       "\n",
       "    .dataframe tbody tr th {\n",
       "        vertical-align: top;\n",
       "    }\n",
       "\n",
       "    .dataframe thead th {\n",
       "        text-align: right;\n",
       "    }\n",
       "</style>\n",
       "<table border=\"1\" class=\"dataframe\">\n",
       "  <thead>\n",
       "    <tr style=\"text-align: right;\">\n",
       "      <th></th>\n",
       "      <th>day_week</th>\n",
       "    </tr>\n",
       "    <tr>\n",
       "      <th>day_week</th>\n",
       "      <th></th>\n",
       "    </tr>\n",
       "  </thead>\n",
       "  <tbody>\n",
       "    <tr>\n",
       "      <th>0</th>\n",
       "      <td>0</td>\n",
       "    </tr>\n",
       "    <tr>\n",
       "      <th>1</th>\n",
       "      <td>1</td>\n",
       "    </tr>\n",
       "    <tr>\n",
       "      <th>2</th>\n",
       "      <td>2</td>\n",
       "    </tr>\n",
       "    <tr>\n",
       "      <th>3</th>\n",
       "      <td>3</td>\n",
       "    </tr>\n",
       "    <tr>\n",
       "      <th>4</th>\n",
       "      <td>4</td>\n",
       "    </tr>\n",
       "    <tr>\n",
       "      <th>5</th>\n",
       "      <td>5</td>\n",
       "    </tr>\n",
       "    <tr>\n",
       "      <th>6</th>\n",
       "      <td>6</td>\n",
       "    </tr>\n",
       "  </tbody>\n",
       "</table>\n",
       "</div>"
      ],
      "text/plain": [
       "          day_week\n",
       "day_week          \n",
       "0                0\n",
       "1                1\n",
       "2                2\n",
       "3                3\n",
       "4                4\n",
       "5                5\n",
       "6                6"
      ]
     },
     "execution_count": 39,
     "metadata": {},
     "output_type": "execute_result"
    }
   ],
   "source": [
    "b"
   ]
  },
  {
   "cell_type": "code",
   "execution_count": 58,
   "id": "abec6f29-6f18-4609-b3ee-6127b3889076",
   "metadata": {},
   "outputs": [],
   "source": [
    "c=df_2.agg({\"day_week\":\"min\"})"
   ]
  },
  {
   "cell_type": "code",
   "execution_count": 59,
   "id": "8c014ba2-bdc4-4502-8198-9934032b559a",
   "metadata": {},
   "outputs": [
    {
     "data": {
      "text/plain": [
       "day_week    0\n",
       "dtype: int64"
      ]
     },
     "execution_count": 59,
     "metadata": {},
     "output_type": "execute_result"
    }
   ],
   "source": [
    "c"
   ]
  },
  {
   "cell_type": "code",
   "execution_count": 42,
   "id": "0ef26dd7-031b-451f-aef5-ee8a71cc5cba",
   "metadata": {},
   "outputs": [],
   "source": [
    "#d=pd.DataFrame(df_2)"
   ]
  },
  {
   "cell_type": "code",
   "execution_count": 43,
   "id": "24658c98-8be6-47bf-bc13-a0b40eee36a5",
   "metadata": {},
   "outputs": [
    {
     "data": {
      "text/plain": [
       "UNIT                              R003\n",
       "DATEn                         05-01-11\n",
       "TIMEn                         00:00:00\n",
       "ENTRIESn                             0\n",
       "EXITSn                               0\n",
       "ENTRIESn_hourly                    0.0\n",
       "EXITSn_hourly                      0.0\n",
       "datetime           2011-05-01 00:00:00\n",
       "hour                                 0\n",
       "day_week                             0\n",
       "weekday                              0\n",
       "station                          1 AVE\n",
       "latitude                     40.576152\n",
       "longitude                   -74.073622\n",
       "conds                            Clear\n",
       "fog                                  0\n",
       "precipi                            0.0\n",
       "pressurei                        29.55\n",
       "rain                                 0\n",
       "tempi                             46.9\n",
       "wspdi                              0.0\n",
       "meanprecipi                        0.0\n",
       "meanpressurei                    29.59\n",
       "meantempi                         49.4\n",
       "meanwspdi                          0.0\n",
       "weather_lat                  40.600204\n",
       "weather_lon                  -74.01487\n",
       "dtype: object"
      ]
     },
     "execution_count": 43,
     "metadata": {},
     "output_type": "execute_result"
    }
   ],
   "source": [
    "#d"
   ]
  },
  {
   "cell_type": "code",
   "execution_count": 64,
   "id": "a53c99ce-fa6c-48f6-8d24-34396c1c7227",
   "metadata": {},
   "outputs": [],
   "source": [
    "f=df_2[\"day_week\"].value_counts()/len(\"day_week\")"
   ]
  },
  {
   "cell_type": "code",
   "execution_count": 71,
   "id": "d59e6523-4794-4a42-b496-68984652d4dc",
   "metadata": {},
   "outputs": [
    {
     "data": {
      "text/plain": [
       "1    880.375\n",
       "0    876.250\n",
       "6    846.125\n",
       "3    685.625\n",
       "2    685.250\n",
       "4    681.250\n",
       "5    676.250\n",
       "Name: day_week, dtype: float64"
      ]
     },
     "execution_count": 71,
     "metadata": {},
     "output_type": "execute_result"
    }
   ],
   "source": []
  },
  {
   "cell_type": "code",
   "execution_count": 68,
   "id": "33196730-1c76-4ef0-8d9f-ada828fba578",
   "metadata": {},
   "outputs": [
    {
     "data": {
      "text/plain": [
       "676.25"
      ]
     },
     "execution_count": 68,
     "metadata": {},
     "output_type": "execute_result"
    }
   ],
   "source": [
    "f.min()"
   ]
  },
  {
   "cell_type": "code",
   "execution_count": 72,
   "id": "5c27f888-6871-4f26-affa-7a83f6dd3e2a",
   "metadata": {},
   "outputs": [
    {
     "data": {
      "text/plain": [
       "0"
      ]
     },
     "execution_count": 72,
     "metadata": {},
     "output_type": "execute_result"
    }
   ],
   "source": [
    "df_2.duplicated().sum()"
   ]
  },
  {
   "cell_type": "code",
   "execution_count": 88,
   "id": "9159302e-1059-4205-b872-80bd3680034c",
   "metadata": {},
   "outputs": [],
   "source": [
    "cl=abs(df_2.corr()[\"hour\"])"
   ]
  },
  {
   "cell_type": "code",
   "execution_count": 89,
   "id": "fd385b98-0617-4f8c-99b8-73c63e7bbd4b",
   "metadata": {},
   "outputs": [
    {
     "data": {
      "text/plain": [
       "ENTRIESn           0.005358\n",
       "EXITSn             0.005421\n",
       "ENTRIESn_hourly    0.286798\n",
       "EXITSn_hourly      0.252758\n",
       "hour               1.000000\n",
       "day_week           0.006010\n",
       "weekday            0.005271\n",
       "latitude           0.000904\n",
       "longitude          0.001106\n",
       "fog                0.038454\n",
       "precipi            0.081902\n",
       "pressurei          0.067935\n",
       "rain               0.000697\n",
       "tempi              0.274048\n",
       "wspdi              0.255057\n",
       "meanprecipi        0.001771\n",
       "meanpressurei      0.002360\n",
       "meantempi          0.001370\n",
       "meanwspdi          0.000496\n",
       "weather_lat        0.000731\n",
       "weather_lon        0.001431\n",
       "Name: hour, dtype: float64"
      ]
     },
     "execution_count": 89,
     "metadata": {},
     "output_type": "execute_result"
    }
   ],
   "source": [
    "cl"
   ]
  },
  {
   "cell_type": "code",
   "execution_count": 7,
   "id": "bbb38166-9588-4c08-94d2-dcda81729547",
   "metadata": {},
   "outputs": [],
   "source": [
    "z=df_2[\"ENTRIESn\"].max()"
   ]
  },
  {
   "cell_type": "code",
   "execution_count": 8,
   "id": "07005410-9229-4b35-ab9e-72ef0295ec3c",
   "metadata": {},
   "outputs": [
    {
     "data": {
      "text/plain": [
       "235774591"
      ]
     },
     "execution_count": 8,
     "metadata": {},
     "output_type": "execute_result"
    }
   ],
   "source": [
    "z"
   ]
  },
  {
   "cell_type": "code",
   "execution_count": 9,
   "id": "8650a39c-db8f-4eb0-8b12-c70c3d5703c1",
   "metadata": {},
   "outputs": [
    {
     "data": {
      "text/plain": [
       "419894      152\n",
       "539504       33\n",
       "539516       17\n",
       "0            14\n",
       "2059290      12\n",
       "           ... \n",
       "16774633      1\n",
       "12341325      1\n",
       "12343732      1\n",
       "23429004      1\n",
       "567311        1\n",
       "Name: ENTRIESn, Length: 41949, dtype: int64"
      ]
     },
     "execution_count": 9,
     "metadata": {},
     "output_type": "execute_result"
    }
   ],
   "source": [
    "df_2[\"ENTRIESn\"].value_counts()"
   ]
  },
  {
   "cell_type": "code",
   "execution_count": 11,
   "id": "75239a1e-bae3-4dc7-bbc3-898852883073",
   "metadata": {},
   "outputs": [],
   "source": [
    "s=df_2.groupby(\"ENTRIESn\").agg({\"ENTRIESn\":\"max\"})"
   ]
  },
  {
   "cell_type": "code",
   "execution_count": 12,
   "id": "16877c98-5dc1-4ac5-ae6e-12f7a348aeee",
   "metadata": {},
   "outputs": [],
   "source": [
    "s=df_2.reset_index()"
   ]
  },
  {
   "cell_type": "code",
   "execution_count": 16,
   "id": "fc5b20b9-245e-4af7-8a44-bae061350627",
   "metadata": {},
   "outputs": [],
   "source": [
    "#s.loc[s(\"ENTRIESn\").agg({\"ENTRIESn\":\"max\"})]"
   ]
  },
  {
   "cell_type": "code",
   "execution_count": 17,
   "id": "e15dad88-8d66-4dde-a936-b41f8b354e41",
   "metadata": {},
   "outputs": [],
   "source": [
    "p=df_2.groupby([\"day_week\"])[\"day_week\"].max()"
   ]
  },
  {
   "cell_type": "code",
   "execution_count": 14,
   "id": "8d6bae4f-a8f1-486b-adec-fb78e22bf33d",
   "metadata": {},
   "outputs": [
    {
     "data": {
      "text/plain": [
       "day_week\n",
       "0    0\n",
       "1    1\n",
       "2    2\n",
       "3    3\n",
       "4    4\n",
       "5    5\n",
       "6    6\n",
       "Name: day_week, dtype: int64"
      ]
     },
     "execution_count": 14,
     "metadata": {},
     "output_type": "execute_result"
    }
   ],
   "source": [
    "p"
   ]
  },
  {
   "cell_type": "code",
   "execution_count": 19,
   "id": "e0a432d7-a110-4682-b6b4-201d4922cacf",
   "metadata": {},
   "outputs": [],
   "source": [
    "q=df_2.groupby(\"UNIT\").agg({\"day_week\":[\"mean\"]})"
   ]
  },
  {
   "cell_type": "code",
   "execution_count": 20,
   "id": "2861aa86-abfe-43c5-a77a-3f8c6e7187ba",
   "metadata": {},
   "outputs": [
    {
     "data": {
      "text/html": [
       "<div>\n",
       "<style scoped>\n",
       "    .dataframe tbody tr th:only-of-type {\n",
       "        vertical-align: middle;\n",
       "    }\n",
       "\n",
       "    .dataframe tbody tr th {\n",
       "        vertical-align: top;\n",
       "    }\n",
       "\n",
       "    .dataframe thead tr th {\n",
       "        text-align: left;\n",
       "    }\n",
       "\n",
       "    .dataframe thead tr:last-of-type th {\n",
       "        text-align: right;\n",
       "    }\n",
       "</style>\n",
       "<table border=\"1\" class=\"dataframe\">\n",
       "  <thead>\n",
       "    <tr>\n",
       "      <th></th>\n",
       "      <th>day_week</th>\n",
       "    </tr>\n",
       "    <tr>\n",
       "      <th></th>\n",
       "      <th>mean</th>\n",
       "    </tr>\n",
       "    <tr>\n",
       "      <th>UNIT</th>\n",
       "      <th></th>\n",
       "    </tr>\n",
       "  </thead>\n",
       "  <tbody>\n",
       "    <tr>\n",
       "      <th>R003</th>\n",
       "      <td>2.845238</td>\n",
       "    </tr>\n",
       "    <tr>\n",
       "      <th>R004</th>\n",
       "      <td>2.857143</td>\n",
       "    </tr>\n",
       "    <tr>\n",
       "      <th>R005</th>\n",
       "      <td>2.912791</td>\n",
       "    </tr>\n",
       "    <tr>\n",
       "      <th>R006</th>\n",
       "      <td>3.005556</td>\n",
       "    </tr>\n",
       "    <tr>\n",
       "      <th>R007</th>\n",
       "      <td>2.870588</td>\n",
       "    </tr>\n",
       "    <tr>\n",
       "      <th>...</th>\n",
       "      <td>...</td>\n",
       "    </tr>\n",
       "    <tr>\n",
       "      <th>R454</th>\n",
       "      <td>2.796407</td>\n",
       "    </tr>\n",
       "    <tr>\n",
       "      <th>R455</th>\n",
       "      <td>2.904762</td>\n",
       "    </tr>\n",
       "    <tr>\n",
       "      <th>R456</th>\n",
       "      <td>2.847458</td>\n",
       "    </tr>\n",
       "    <tr>\n",
       "      <th>R459</th>\n",
       "      <td>2.704545</td>\n",
       "    </tr>\n",
       "    <tr>\n",
       "      <th>R464</th>\n",
       "      <td>2.834320</td>\n",
       "    </tr>\n",
       "  </tbody>\n",
       "</table>\n",
       "<p>240 rows × 1 columns</p>\n",
       "</div>"
      ],
      "text/plain": [
       "      day_week\n",
       "          mean\n",
       "UNIT          \n",
       "R003  2.845238\n",
       "R004  2.857143\n",
       "R005  2.912791\n",
       "R006  3.005556\n",
       "R007  2.870588\n",
       "...        ...\n",
       "R454  2.796407\n",
       "R455  2.904762\n",
       "R456  2.847458\n",
       "R459  2.704545\n",
       "R464  2.834320\n",
       "\n",
       "[240 rows x 1 columns]"
      ]
     },
     "execution_count": 20,
     "metadata": {},
     "output_type": "execute_result"
    }
   ],
   "source": [
    "q"
   ]
  },
  {
   "cell_type": "code",
   "execution_count": 73,
   "id": "a2af45ea-dfa1-4590-a78e-7d9f990bdd34",
   "metadata": {},
   "outputs": [
    {
     "data": {
      "text/html": [
       "<div>\n",
       "<style scoped>\n",
       "    .dataframe tbody tr th:only-of-type {\n",
       "        vertical-align: middle;\n",
       "    }\n",
       "\n",
       "    .dataframe tbody tr th {\n",
       "        vertical-align: top;\n",
       "    }\n",
       "\n",
       "    .dataframe thead tr th {\n",
       "        text-align: left;\n",
       "    }\n",
       "\n",
       "    .dataframe thead tr:last-of-type th {\n",
       "        text-align: right;\n",
       "    }\n",
       "</style>\n",
       "<table border=\"1\" class=\"dataframe\">\n",
       "  <thead>\n",
       "    <tr>\n",
       "      <th></th>\n",
       "      <th>day_week</th>\n",
       "    </tr>\n",
       "    <tr>\n",
       "      <th></th>\n",
       "      <th>mean</th>\n",
       "    </tr>\n",
       "    <tr>\n",
       "      <th>UNIT</th>\n",
       "      <th></th>\n",
       "    </tr>\n",
       "  </thead>\n",
       "  <tbody>\n",
       "    <tr>\n",
       "      <th>R003</th>\n",
       "      <td>2.845238</td>\n",
       "    </tr>\n",
       "  </tbody>\n",
       "</table>\n",
       "</div>"
      ],
      "text/plain": [
       "      day_week\n",
       "          mean\n",
       "UNIT          \n",
       "R003  2.845238"
      ]
     },
     "execution_count": 73,
     "metadata": {},
     "output_type": "execute_result"
    }
   ],
   "source": [
    "#new_data.sort_values(by=\"Level 4\",ascending=False)[:5]\n",
    "q.sort_values(by=\"UNIT\",ascending=True)[:1]"
   ]
  },
  {
   "cell_type": "code",
   "execution_count": null,
   "id": "5672ea21-b3c9-4dcd-a5be-5cd6f61b5c15",
   "metadata": {},
   "outputs": [],
   "source": []
  },
  {
   "cell_type": "code",
   "execution_count": 21,
   "id": "ce1e5f98-3471-4ea5-90cc-b1bf86682aad",
   "metadata": {},
   "outputs": [],
   "source": [
    "r=df_2.groupby(\"UNIT\").agg({\"day_week\":[\"max\"]})"
   ]
  },
  {
   "cell_type": "code",
   "execution_count": 22,
   "id": "555afe16-eaa3-458e-bdb9-ad5dc9c441fa",
   "metadata": {},
   "outputs": [
    {
     "data": {
      "text/html": [
       "<div>\n",
       "<style scoped>\n",
       "    .dataframe tbody tr th:only-of-type {\n",
       "        vertical-align: middle;\n",
       "    }\n",
       "\n",
       "    .dataframe tbody tr th {\n",
       "        vertical-align: top;\n",
       "    }\n",
       "\n",
       "    .dataframe thead tr th {\n",
       "        text-align: left;\n",
       "    }\n",
       "\n",
       "    .dataframe thead tr:last-of-type th {\n",
       "        text-align: right;\n",
       "    }\n",
       "</style>\n",
       "<table border=\"1\" class=\"dataframe\">\n",
       "  <thead>\n",
       "    <tr>\n",
       "      <th></th>\n",
       "      <th>day_week</th>\n",
       "    </tr>\n",
       "    <tr>\n",
       "      <th></th>\n",
       "      <th>max</th>\n",
       "    </tr>\n",
       "    <tr>\n",
       "      <th>UNIT</th>\n",
       "      <th></th>\n",
       "    </tr>\n",
       "  </thead>\n",
       "  <tbody>\n",
       "    <tr>\n",
       "      <th>R003</th>\n",
       "      <td>6</td>\n",
       "    </tr>\n",
       "    <tr>\n",
       "      <th>R004</th>\n",
       "      <td>6</td>\n",
       "    </tr>\n",
       "    <tr>\n",
       "      <th>R005</th>\n",
       "      <td>6</td>\n",
       "    </tr>\n",
       "    <tr>\n",
       "      <th>R006</th>\n",
       "      <td>6</td>\n",
       "    </tr>\n",
       "    <tr>\n",
       "      <th>R007</th>\n",
       "      <td>6</td>\n",
       "    </tr>\n",
       "    <tr>\n",
       "      <th>...</th>\n",
       "      <td>...</td>\n",
       "    </tr>\n",
       "    <tr>\n",
       "      <th>R454</th>\n",
       "      <td>6</td>\n",
       "    </tr>\n",
       "    <tr>\n",
       "      <th>R455</th>\n",
       "      <td>6</td>\n",
       "    </tr>\n",
       "    <tr>\n",
       "      <th>R456</th>\n",
       "      <td>6</td>\n",
       "    </tr>\n",
       "    <tr>\n",
       "      <th>R459</th>\n",
       "      <td>6</td>\n",
       "    </tr>\n",
       "    <tr>\n",
       "      <th>R464</th>\n",
       "      <td>6</td>\n",
       "    </tr>\n",
       "  </tbody>\n",
       "</table>\n",
       "<p>240 rows × 1 columns</p>\n",
       "</div>"
      ],
      "text/plain": [
       "     day_week\n",
       "          max\n",
       "UNIT         \n",
       "R003        6\n",
       "R004        6\n",
       "R005        6\n",
       "R006        6\n",
       "R007        6\n",
       "...       ...\n",
       "R454        6\n",
       "R455        6\n",
       "R456        6\n",
       "R459        6\n",
       "R464        6\n",
       "\n",
       "[240 rows x 1 columns]"
      ]
     },
     "execution_count": 22,
     "metadata": {},
     "output_type": "execute_result"
    }
   ],
   "source": [
    "r"
   ]
  },
  {
   "cell_type": "code",
   "execution_count": 24,
   "id": "382c2198-f048-4719-a86f-57be89a160c7",
   "metadata": {},
   "outputs": [],
   "source": [
    "t=df_2.groupby(\"UNIT\",).agg({\"ENTRIESn\":[\"max\"]}).max()"
   ]
  },
  {
   "cell_type": "code",
   "execution_count": 25,
   "id": "2ec76bce-8f42-465d-a075-eab22c29eddc",
   "metadata": {},
   "outputs": [
    {
     "data": {
      "text/plain": [
       "ENTRIESn  max    235774591\n",
       "dtype: int64"
      ]
     },
     "execution_count": 25,
     "metadata": {},
     "output_type": "execute_result"
    }
   ],
   "source": [
    "t"
   ]
  },
  {
   "cell_type": "code",
   "execution_count": 77,
   "id": "abc08740-c1bb-4373-b2bd-14d1a95eaed2",
   "metadata": {},
   "outputs": [],
   "source": [
    "#new_data.sort_values(by=\"Level 4\",ascending=False)[:5]\n",
    "#t.sort_values(by=\"UNIT\",ascending=False)"
   ]
  },
  {
   "cell_type": "code",
   "execution_count": 7,
   "id": "10bc0d0e-025f-4a1a-85f3-c4f63211ceea",
   "metadata": {},
   "outputs": [],
   "source": [
    "#1\n",
    "w=df_2.groupby(\"day_week\").agg({\"ENTRIESn_hourly\":\"mean\"})"
   ]
  },
  {
   "cell_type": "code",
   "execution_count": 8,
   "id": "6bda97c7-cd11-41cd-8702-97c99a29989e",
   "metadata": {},
   "outputs": [
    {
     "data": {
      "text/html": [
       "<div>\n",
       "<style scoped>\n",
       "    .dataframe tbody tr th:only-of-type {\n",
       "        vertical-align: middle;\n",
       "    }\n",
       "\n",
       "    .dataframe tbody tr th {\n",
       "        vertical-align: top;\n",
       "    }\n",
       "\n",
       "    .dataframe thead th {\n",
       "        text-align: right;\n",
       "    }\n",
       "</style>\n",
       "<table border=\"1\" class=\"dataframe\">\n",
       "  <thead>\n",
       "    <tr style=\"text-align: right;\">\n",
       "      <th></th>\n",
       "      <th>ENTRIESn_hourly</th>\n",
       "    </tr>\n",
       "    <tr>\n",
       "      <th>day_week</th>\n",
       "      <th></th>\n",
       "    </tr>\n",
       "  </thead>\n",
       "  <tbody>\n",
       "    <tr>\n",
       "      <th>0</th>\n",
       "      <td>1825.264907</td>\n",
       "    </tr>\n",
       "    <tr>\n",
       "      <th>1</th>\n",
       "      <td>2164.836433</td>\n",
       "    </tr>\n",
       "    <tr>\n",
       "      <th>2</th>\n",
       "      <td>2297.097957</td>\n",
       "    </tr>\n",
       "    <tr>\n",
       "      <th>3</th>\n",
       "      <td>2317.072379</td>\n",
       "    </tr>\n",
       "    <tr>\n",
       "      <th>4</th>\n",
       "      <td>2277.372294</td>\n",
       "    </tr>\n",
       "    <tr>\n",
       "      <th>5</th>\n",
       "      <td>1383.901479</td>\n",
       "    </tr>\n",
       "    <tr>\n",
       "      <th>6</th>\n",
       "      <td>1066.436106</td>\n",
       "    </tr>\n",
       "  </tbody>\n",
       "</table>\n",
       "</div>"
      ],
      "text/plain": [
       "          ENTRIESn_hourly\n",
       "day_week                 \n",
       "0             1825.264907\n",
       "1             2164.836433\n",
       "2             2297.097957\n",
       "3             2317.072379\n",
       "4             2277.372294\n",
       "5             1383.901479\n",
       "6             1066.436106"
      ]
     },
     "execution_count": 8,
     "metadata": {},
     "output_type": "execute_result"
    }
   ],
   "source": [
    "w"
   ]
  },
  {
   "cell_type": "code",
   "execution_count": 11,
   "id": "800e8259-a1a8-46fa-a621-bd73c2312d8e",
   "metadata": {},
   "outputs": [
    {
     "data": {
      "text/plain": [
       "<AxesSubplot:>"
      ]
     },
     "execution_count": 11,
     "metadata": {},
     "output_type": "execute_result"
    },
    {
     "data": {
      "image/png": "[encoded data removed]",
      "text/plain": [
       "<Figure size 1440x720 with 2 Axes>"
      ]
     },
     "metadata": {
      "needs_background": "light"
     },
     "output_type": "display_data"
    }
   ],
   "source": [
    "#6\n",
    "import seaborn as sns\n",
    "import matplotlib.pyplot as plt\n",
    "w=df_2.corr()\n",
    "plt.figure(figsize=(20,10))\n",
    "sns.heatmap(w,annot=True)"
   ]
  },
  {
   "cell_type": "code",
   "execution_count": 15,
   "id": "e9694ec9-6d30-4059-8c88-1ce2a10fe13a",
   "metadata": {},
   "outputs": [
    {
     "data": {
      "text/html": [
       "<div>\n",
       "<style scoped>\n",
       "    .dataframe tbody tr th:only-of-type {\n",
       "        vertical-align: middle;\n",
       "    }\n",
       "\n",
       "    .dataframe tbody tr th {\n",
       "        vertical-align: top;\n",
       "    }\n",
       "\n",
       "    .dataframe thead th {\n",
       "        text-align: right;\n",
       "    }\n",
       "</style>\n",
       "<table border=\"1\" class=\"dataframe\">\n",
       "  <thead>\n",
       "    <tr style=\"text-align: right;\">\n",
       "      <th></th>\n",
       "      <th>ENTRIESn_hourly</th>\n",
       "    </tr>\n",
       "    <tr>\n",
       "      <th>day_week</th>\n",
       "      <th></th>\n",
       "    </tr>\n",
       "  </thead>\n",
       "  <tbody>\n",
       "    <tr>\n",
       "      <th>0</th>\n",
       "      <td>1825.264907</td>\n",
       "    </tr>\n",
       "    <tr>\n",
       "      <th>1</th>\n",
       "      <td>2164.836433</td>\n",
       "    </tr>\n",
       "    <tr>\n",
       "      <th>2</th>\n",
       "      <td>2297.097957</td>\n",
       "    </tr>\n",
       "    <tr>\n",
       "      <th>3</th>\n",
       "      <td>2317.072379</td>\n",
       "    </tr>\n",
       "    <tr>\n",
       "      <th>4</th>\n",
       "      <td>2277.372294</td>\n",
       "    </tr>\n",
       "    <tr>\n",
       "      <th>5</th>\n",
       "      <td>1383.901479</td>\n",
       "    </tr>\n",
       "    <tr>\n",
       "      <th>6</th>\n",
       "      <td>1066.436106</td>\n",
       "    </tr>\n",
       "  </tbody>\n",
       "</table>\n",
       "</div>"
      ],
      "text/plain": [
       "          ENTRIESn_hourly\n",
       "day_week                 \n",
       "0             1825.264907\n",
       "1             2164.836433\n",
       "2             2297.097957\n",
       "3             2317.072379\n",
       "4             2277.372294\n",
       "5             1383.901479\n",
       "6             1066.436106"
      ]
     },
     "execution_count": 15,
     "metadata": {},
     "output_type": "execute_result"
    }
   ],
   "source": [
    "#2\n",
    "q=df_2.groupby(\"day_week\").agg({\"ENTRIESn_hourly\":\"mean\"})\n",
    "q"
   ]
  },
  {
   "cell_type": "code",
   "execution_count": 24,
   "id": "7404ad93-0893-4743-a1fa-b2495c92549e",
   "metadata": {},
   "outputs": [
    {
     "data": {
      "text/html": [
       "<div>\n",
       "<style scoped>\n",
       "    .dataframe tbody tr th:only-of-type {\n",
       "        vertical-align: middle;\n",
       "    }\n",
       "\n",
       "    .dataframe tbody tr th {\n",
       "        vertical-align: top;\n",
       "    }\n",
       "\n",
       "    .dataframe thead th {\n",
       "        text-align: right;\n",
       "    }\n",
       "</style>\n",
       "<table border=\"1\" class=\"dataframe\">\n",
       "  <thead>\n",
       "    <tr style=\"text-align: right;\">\n",
       "      <th></th>\n",
       "      <th>precipi</th>\n",
       "    </tr>\n",
       "    <tr>\n",
       "      <th>day_week</th>\n",
       "      <th></th>\n",
       "    </tr>\n",
       "  </thead>\n",
       "  <tbody>\n",
       "    <tr>\n",
       "      <th>0</th>\n",
       "      <td>0.000595</td>\n",
       "    </tr>\n",
       "    <tr>\n",
       "      <th>1</th>\n",
       "      <td>0.014065</td>\n",
       "    </tr>\n",
       "    <tr>\n",
       "      <th>2</th>\n",
       "      <td>0.010773</td>\n",
       "    </tr>\n",
       "    <tr>\n",
       "      <th>3</th>\n",
       "      <td>0.001696</td>\n",
       "    </tr>\n",
       "    <tr>\n",
       "      <th>4</th>\n",
       "      <td>0.000857</td>\n",
       "    </tr>\n",
       "    <tr>\n",
       "      <th>5</th>\n",
       "      <td>0.000000</td>\n",
       "    </tr>\n",
       "    <tr>\n",
       "      <th>6</th>\n",
       "      <td>0.003055</td>\n",
       "    </tr>\n",
       "  </tbody>\n",
       "</table>\n",
       "</div>"
      ],
      "text/plain": [
       "           precipi\n",
       "day_week          \n",
       "0         0.000595\n",
       "1         0.014065\n",
       "2         0.010773\n",
       "3         0.001696\n",
       "4         0.000857\n",
       "5         0.000000\n",
       "6         0.003055"
      ]
     },
     "execution_count": 24,
     "metadata": {},
     "output_type": "execute_result"
    }
   ],
   "source": [
    "#3\n",
    "e=df_2.groupby(\"day_week\").agg({\"precipi\":\"mean\"})\n",
    "e"
   ]
  },
  {
   "cell_type": "code",
   "execution_count": 27,
   "id": "1e6b17ec-d06d-438a-bf10-05bb647f8aed",
   "metadata": {},
   "outputs": [
    {
     "data": {
      "text/plain": [
       "UNIT                object\n",
       "DATEn               object\n",
       "TIMEn               object\n",
       "ENTRIESn             int64\n",
       "EXITSn               int64\n",
       "ENTRIESn_hourly    float64\n",
       "EXITSn_hourly      float64\n",
       "datetime            object\n",
       "hour                 int64\n",
       "day_week             int64\n",
       "weekday              int64\n",
       "station             object\n",
       "latitude           float64\n",
       "longitude          float64\n",
       "conds               object\n",
       "fog                  int64\n",
       "precipi            float64\n",
       "pressurei          float64\n",
       "rain                 int64\n",
       "tempi              float64\n",
       "wspdi              float64\n",
       "meanprecipi        float64\n",
       "meanpressurei      float64\n",
       "meantempi          float64\n",
       "meanwspdi          float64\n",
       "weather_lat        float64\n",
       "weather_lon        float64\n",
       "dtype: object"
      ]
     },
     "execution_count": 27,
     "metadata": {},
     "output_type": "execute_result"
    }
   ],
   "source": [
    "df_2.dtypes"
   ]
  },
  {
   "cell_type": "code",
   "execution_count": 32,
   "id": "6976c91a-92c0-4e33-87ce-ad0c13e25311",
   "metadata": {},
   "outputs": [
    {
     "data": {
      "text/plain": [
       "ENTRIESn    32086852685\n",
       "dtype: int64"
      ]
     },
     "execution_count": 32,
     "metadata": {},
     "output_type": "execute_result"
    }
   ],
   "source": [
    "#4\n",
    "f=df_2.groupby(\"UNIT\").agg({\"ENTRIESn\":\"sum\"})\n",
    "f.max()"
   ]
  },
  {
   "cell_type": "code",
   "execution_count": 33,
   "id": "4c7756cb-7e47-48bf-839f-a8c3f02cb61e",
   "metadata": {},
   "outputs": [
    {
     "data": {
      "text/plain": [
       "0"
      ]
     },
     "execution_count": 33,
     "metadata": {},
     "output_type": "execute_result"
    }
   ],
   "source": [
    "#5\n",
    "df_2.duplicated().sum()"
   ]
  },
  {
   "cell_type": "code",
   "execution_count": null,
   "id": "93e38233-0759-450a-940e-bd5255f8dc12",
   "metadata": {},
   "outputs": [],
   "source": []
  }
 ],
 "metadata": {
  "kernelspec": {
   "display_name": "Python 3 (ipykernel)",
   "language": "python",
   "name": "python3"
  },
  "language_info": {
   "codemirror_mode": {
    "name": "ipython",
    "version": 3
   },
   "file_extension": ".py",
   "mimetype": "text/x-python",
   "name": "python",
   "nbconvert_exporter": "python",
   "pygments_lexer": "ipython3",
   "version": "3.9.12"
  }
 },
 "nbformat": 4,
 "nbformat_minor": 5
}
